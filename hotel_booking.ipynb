{
 "cells": [
  {
   "cell_type": "code",
   "execution_count": 1,
   "id": "bd851710",
   "metadata": {},
   "outputs": [],
   "source": [
    "import pandas as pd #library calling"
   ]
  },
  {
   "cell_type": "code",
   "execution_count": 2,
   "id": "6e2fb677",
   "metadata": {},
   "outputs": [],
   "source": [
    "bookings = pd.read_csv(\"D:\\\\Книги Дарья\\\\Курс Python\\\\bookings.csv\",\n",
    "                    encoding='windows-1251', sep=';') #csv_file downloading"
   ]
  },
  {
   "cell_type": "code",
   "execution_count": 7,
   "id": "6767e0ab",
   "metadata": {},
   "outputs": [],
   "source": [
    "bookings_head = bookings.head(7)"
   ]
  },
  {
   "cell_type": "code",
   "execution_count": 9,
   "id": "a0ba68b3",
   "metadata": {},
   "outputs": [
    {
     "data": {
      "text/plain": [
       "(119390, 21)"
      ]
     },
     "execution_count": 9,
     "metadata": {},
     "output_type": "execute_result"
    }
   ],
   "source": [
    "bookings.shape #quantity of rows and columns"
   ]
  },
  {
   "cell_type": "code",
   "execution_count": 12,
   "id": "0590f938",
   "metadata": {},
   "outputs": [
    {
     "data": {
      "text/plain": [
       "Hotel                         object\n",
       "Is Canceled                    int64\n",
       "Lead Time                      int64\n",
       "arrival full date             object\n",
       "Arrival Date Year              int64\n",
       "Arrival Date Month            object\n",
       "Arrival Date Week Number       int64\n",
       "Arrival Date Day of Month      int64\n",
       "Stays in Weekend nights        int64\n",
       "Stays in week nights           int64\n",
       "stays total nights             int64\n",
       "Adults                         int64\n",
       "Children                     float64\n",
       "Babies                         int64\n",
       "Meal                          object\n",
       "Country                       object\n",
       "Reserved Room Type            object\n",
       "Assigned room type            object\n",
       "customer type                 object\n",
       "Reservation Status            object\n",
       "Reservation status_date       object\n",
       "dtype: object"
      ]
     },
     "execution_count": 12,
     "metadata": {},
     "output_type": "execute_result"
    }
   ],
   "source": [
    "bookings.dtypes #column types"
   ]
  },
  {
   "cell_type": "code",
   "execution_count": 13,
   "id": "96b0d774",
   "metadata": {},
   "outputs": [
    {
     "data": {
      "text/plain": [
       "Index(['Hotel', 'Is Canceled', 'Lead Time', 'arrival full date',\n",
       "       'Arrival Date Year', 'Arrival Date Month', 'Arrival Date Week Number',\n",
       "       'Arrival Date Day of Month', 'Stays in Weekend nights',\n",
       "       'Stays in week nights', 'stays total nights', 'Adults', 'Children',\n",
       "       'Babies', 'Meal', 'Country', 'Reserved Room Type', 'Assigned room type',\n",
       "       'customer type', 'Reservation Status', 'Reservation status_date'],\n",
       "      dtype='object')"
      ]
     },
     "execution_count": 13,
     "metadata": {},
     "output_type": "execute_result"
    }
   ],
   "source": [
    "bookings.columns"
   ]
  },
  {
   "cell_type": "code",
   "execution_count": 25,
   "id": "ed07e66d",
   "metadata": {},
   "outputs": [],
   "source": [
    "#fuction for renaming columns\n",
    "def to_lower_underscore(name):\n",
    "    name = name.lower().replace(' ', '_')\n",
    "    return name"
   ]
  },
  {
   "cell_type": "code",
   "execution_count": 26,
   "id": "febfd50f",
   "metadata": {},
   "outputs": [],
   "source": [
    "bookings = bookings.rename(columns=to_lower_underscore)"
   ]
  },
  {
   "cell_type": "code",
   "execution_count": 29,
   "id": "215f68a8",
   "metadata": {},
   "outputs": [
    {
     "data": {
      "text/plain": [
       "PRT    21071\n",
       "GBR     9676\n",
       "FRA     8481\n",
       "ESP     6391\n",
       "DEU     6069\n",
       "Name: country, dtype: int64"
      ]
     },
     "execution_count": 29,
     "metadata": {},
     "output_type": "execute_result"
    }
   ],
   "source": [
    "#top5_booking_countries\n",
    "bookings.query('is_canceled == 0') \\\n",
    "        .country \\\n",
    "        .value_counts()[:5]"
   ]
  },
  {
   "cell_type": "code",
   "execution_count": 31,
   "id": "5e5d7fb8",
   "metadata": {},
   "outputs": [
    {
     "data": {
      "text/html": [
       "<div>\n",
       "<style scoped>\n",
       "    .dataframe tbody tr th:only-of-type {\n",
       "        vertical-align: middle;\n",
       "    }\n",
       "\n",
       "    .dataframe tbody tr th {\n",
       "        vertical-align: top;\n",
       "    }\n",
       "\n",
       "    .dataframe thead th {\n",
       "        text-align: right;\n",
       "    }\n",
       "</style>\n",
       "<table border=\"1\" class=\"dataframe\">\n",
       "  <thead>\n",
       "    <tr style=\"text-align: right;\">\n",
       "      <th></th>\n",
       "      <th>hotel</th>\n",
       "      <th>stays_total_nights</th>\n",
       "    </tr>\n",
       "  </thead>\n",
       "  <tbody>\n",
       "    <tr>\n",
       "      <th>0</th>\n",
       "      <td>City Hotel</td>\n",
       "      <td>2.98</td>\n",
       "    </tr>\n",
       "    <tr>\n",
       "      <th>1</th>\n",
       "      <td>Resort Hotel</td>\n",
       "      <td>4.32</td>\n",
       "    </tr>\n",
       "  </tbody>\n",
       "</table>\n",
       "</div>"
      ],
      "text/plain": [
       "          hotel  stays_total_nights\n",
       "0    City Hotel                2.98\n",
       "1  Resort Hotel                4.32"
      ]
     },
     "execution_count": 31,
     "metadata": {},
     "output_type": "execute_result"
    }
   ],
   "source": [
    "bookings.groupby(['hotel'], as_index=False).agg({'stays_total_nights': 'mean'}).round(2) #average stays nights"
   ]
  },
  {
   "cell_type": "code",
   "execution_count": null,
   "id": "b7044661",
   "metadata": {},
   "outputs": [],
   "source": []
  },
  {
   "cell_type": "code",
   "execution_count": null,
   "id": "a3c190b2",
   "metadata": {},
   "outputs": [],
   "source": []
  }
 ],
 "metadata": {
  "kernelspec": {
   "display_name": "Python 3 (ipykernel)",
   "language": "python",
   "name": "python3"
  },
  "language_info": {
   "codemirror_mode": {
    "name": "ipython",
    "version": 3
   },
   "file_extension": ".py",
   "mimetype": "text/x-python",
   "name": "python",
   "nbconvert_exporter": "python",
   "pygments_lexer": "ipython3",
   "version": "3.10.9"
  }
 },
 "nbformat": 4,
 "nbformat_minor": 5
}
